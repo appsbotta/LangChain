{
 "cells": [
  {
   "cell_type": "code",
   "execution_count": 1,
   "metadata": {},
   "outputs": [
    {
     "data": {
      "text/plain": [
       "True"
      ]
     },
     "execution_count": 1,
     "metadata": {},
     "output_type": "execute_result"
    }
   ],
   "source": [
    "from langchain_community.document_loaders import PyPDFLoader\n",
    "from langchain_community.document_loaders import PyPDFDirectoryLoader\n",
    "from langchain.text_splitter import RecursiveCharacterTextSplitter\n",
    "from langchain_community.vectorstores import FAISS\n",
    "from langchain_community.embeddings import HuggingFaceBgeEmbeddings\n",
    "from langchain.prompts import PromptTemplate\n",
    "from langchain.chains import RetrievalQA\n",
    "import numpy as np\n",
    "from dotenv import load_dotenv\n",
    "import os\n",
    "load_dotenv()"
   ]
  },
  {
   "cell_type": "code",
   "execution_count": 2,
   "metadata": {},
   "outputs": [
    {
     "data": {
      "text/plain": [
       "Document(metadata={'source': 'us_census\\\\acsbr-015.pdf', 'page': 0}, page_content='Health Insurance Coverage Status and Type \\nby Geography: 2021 and 2022\\nAmerican Community Survey Briefs\\nACSBR-015\\nIssued September 2023\\nDouglas Conway and Breauna Branch\\nINTRODUCTION\\nDemographic shifts as well as economic and govern-\\nment policy changes can affect people’s access to \\nhealth coverage. For example, between 2021 and 2022, \\nthe labor market continued to improve, which may \\nhave affected private coverage in the United States \\nduring that time.1 Public policy changes included \\nthe renewal of the Public Health Emergency, which \\nallowed Medicaid enrollees to remain covered under \\nthe Continuous Enrollment Provision.2 The American \\nRescue Plan (ARP) enhanced Marketplace premium \\nsubsidies for those with incomes above 400 percent \\nof the poverty level as well as for unemployed people.3\\nIn addition to national policies, individual states and \\nthe District of Columbia can affect health insurance \\ncoverage by making Marketplace or Medicaid more')"
      ]
     },
     "execution_count": 2,
     "metadata": {},
     "output_type": "execute_result"
    }
   ],
   "source": [
    "loader = PyPDFDirectoryLoader(\"./us_census\")\n",
    "\n",
    "documents  = loader.load()\n",
    "\n",
    "docs = RecursiveCharacterTextSplitter(chunk_size = 1000,chunk_overlap=200).split_documents(documents)\n",
    "docs[0]"
   ]
  },
  {
   "cell_type": "code",
   "execution_count": 3,
   "metadata": {},
   "outputs": [
    {
     "data": {
      "text/plain": [
       "316"
      ]
     },
     "execution_count": 3,
     "metadata": {},
     "output_type": "execute_result"
    }
   ],
   "source": [
    "len(docs)"
   ]
  },
  {
   "cell_type": "code",
   "execution_count": 7,
   "metadata": {},
   "outputs": [
    {
     "name": "stderr",
     "output_type": "stream",
     "text": [
      "c:\\Users\\Appsb\\Desktop\\LangChain\\myenv\\Lib\\site-packages\\tqdm\\auto.py:21: TqdmWarning: IProgress not found. Please update jupyter and ipywidgets. See https://ipywidgets.readthedocs.io/en/stable/user_install.html\n",
      "  from .autonotebook import tqdm as notebook_tqdm\n",
      "c:\\Users\\Appsb\\Desktop\\LangChain\\myenv\\Lib\\site-packages\\huggingface_hub\\file_download.py:140: UserWarning: `huggingface_hub` cache-system uses symlinks by default to efficiently store duplicated files but your machine does not support them in C:\\Users\\Appsb\\.cache\\huggingface\\hub\\models--BAAI--bge-small-en-v1.5. Caching files will still work but in a degraded version that might require more space on your disk. This warning can be disabled by setting the `HF_HUB_DISABLE_SYMLINKS_WARNING` environment variable. For more details, see https://huggingface.co/docs/huggingface_hub/how-to-cache#limitations.\n",
      "To support symlinks on Windows, you either need to activate Developer Mode or to run Python as an administrator. In order to activate developer mode, see this article: https://docs.microsoft.com/en-us/windows/apps/get-started/enable-your-device-for-development\n",
      "  warnings.warn(message)\n"
     ]
    }
   ],
   "source": [
    "embedding = HuggingFaceBgeEmbeddings(\n",
    "    model_name=\"BAAI/bge-small-en-v1.5\",\n",
    "    model_kwargs={\"device\":'cpu'},\n",
    "    encode_kwargs = {'normalize_embeddings':True}\n",
    ")"
   ]
  },
  {
   "cell_type": "code",
   "execution_count": 8,
   "metadata": {},
   "outputs": [
    {
     "data": {
      "text/plain": [
       "array([-0.07903481, -0.01134112, -0.02312098,  0.02844463,  0.05053343,\n",
       "        0.05317828, -0.01907791,  0.03456023, -0.1021137 , -0.02915701,\n",
       "        0.0852426 ,  0.05650729, -0.02545437, -0.0330849 , -0.00635735,\n",
       "        0.04090865, -0.00628106,  0.00356741, -0.03854128,  0.03667685,\n",
       "       -0.04289803,  0.03425249, -0.03116902, -0.0379373 ,  0.01728393,\n",
       "        0.01214923,  0.00653118,  0.01463566, -0.05529052, -0.15320708,\n",
       "        0.00730848,  0.03202941, -0.04701128, -0.01595975,  0.01874448,\n",
       "        0.02642936, -0.02306381,  0.08438039,  0.04182487,  0.05278176,\n",
       "       -0.03057603,  0.0156426 , -0.01689073,  0.00529407, -0.02417434,\n",
       "        0.00412997, -0.01889939, -0.00150625, -0.0083694 , -0.03390061,\n",
       "        0.03515957, -0.00553132,  0.04910939,  0.05971861,  0.05615965,\n",
       "       -0.05105154,  0.01475135, -0.01849959, -0.03284641,  0.03576629,\n",
       "        0.04947707, -0.00938882, -0.26202115,  0.09750333,  0.01715692,\n",
       "        0.04781386, -0.00556319, -0.00298308, -0.02207354, -0.04463669,\n",
       "       -0.05760488,  0.04815875, -0.05522211,  0.01635333,  0.03299246,\n",
       "        0.02147077,  0.01296219,  0.01462313,  0.02174949, -0.00202997,\n",
       "        0.02099538,  0.03353844, -0.00345109, -0.04823532,  0.05149955,\n",
       "       -0.08948106,  0.04491431, -0.03423372,  0.02495738, -0.03332327,\n",
       "       -0.04124895,  0.01226974,  0.00551144,  0.02813654,  0.00750807,\n",
       "        0.03364135, -0.00718587, -0.00677304, -0.02375999,  0.34350556,\n",
       "       -0.02040541,  0.00967848, -0.00936506,  0.01524741, -0.00692601,\n",
       "       -0.05803743, -0.00443031,  0.01115696,  0.01746199,  0.01258486,\n",
       "        0.0215861 , -0.02646194,  0.01026773,  0.04782214, -0.03718097,\n",
       "       -0.01986204,  0.04008089,  0.01574839,  0.0936352 , -0.02635875,\n",
       "       -0.01393854,  0.03410931, -0.01630286, -0.04708789,  0.02137169,\n",
       "        0.06708886,  0.05438906,  0.15054177,  0.03444388, -0.04218607,\n",
       "        0.10422418, -0.04002279, -0.00191296,  0.00459118, -0.0029259 ,\n",
       "        0.00371356, -0.02687686,  0.03972117, -0.0073963 ,  0.05129855,\n",
       "        0.00698693, -0.0004355 , -0.00752808, -0.13413781, -0.03140996,\n",
       "        0.17964654, -0.02152572,  0.04534227,  0.02027219, -0.01826405,\n",
       "       -0.04439813,  0.04787036, -0.03801554,  0.04057755, -0.03817714,\n",
       "        0.01659368, -0.0036818 ,  0.02469145, -0.02634715, -0.0672743 ,\n",
       "        0.05705412, -0.03698841, -0.05754095,  0.01774045,  0.041631  ,\n",
       "       -0.02699811, -0.01342313, -0.06434494,  0.02320637,  0.00476101,\n",
       "        0.01345851,  0.05142653,  0.01828841, -0.0226721 ,  0.08680934,\n",
       "        0.0228899 , -0.02278558, -0.00261805, -0.00936062, -0.05964359,\n",
       "        0.00370068, -0.02772142, -0.05116596, -0.04951672, -0.01691761,\n",
       "       -0.04342571, -0.06551471,  0.05782726,  0.0498929 , -0.01559618,\n",
       "       -0.00385896,  0.00827747, -0.06377073,  0.01969862, -0.01933413,\n",
       "       -0.01095794, -0.05990797, -0.02187354,  0.03869358, -0.02963529,\n",
       "       -0.03095984,  0.02629449,  0.00857688, -0.00225384, -0.00917322,\n",
       "        0.02006877,  0.02308837, -0.06949829,  0.03825647, -0.01321397,\n",
       "        0.00288254,  0.04065884,  0.03197153,  0.00364803,  0.03610997,\n",
       "        0.0165304 ,  0.0128288 , -0.02190452,  0.02050885,  0.03220994,\n",
       "        0.03351385,  0.06819052,  0.09490158, -0.27463818, -0.00499031,\n",
       "        0.00181545,  0.00687724, -0.0694719 , -0.05266641, -0.04547603,\n",
       "        0.02707844,  0.00403485,  0.08909721,  0.0620861 , -0.00817407,\n",
       "       -0.02176255,  0.10530709,  0.02105072, -0.08313888,  0.02648289,\n",
       "       -0.02122216, -0.01542385, -0.00282386,  0.00493175,  0.00487718,\n",
       "       -0.06012278, -0.02174244,  0.08150737, -0.01746733,  0.06210527,\n",
       "       -0.05241902, -0.07425198,  0.00045816, -0.05536219,  0.05762159,\n",
       "       -0.00776097, -0.1196596 ,  0.06155292,  0.0177332 , -0.07490136,\n",
       "        0.00434347, -0.06374461, -0.03096173, -0.02682652,  0.05158741,\n",
       "       -0.06356605,  0.02998997, -0.01865462, -0.05194335,  0.04636511,\n",
       "        0.07127585, -0.08020444,  0.01025253,  0.0064939 , -0.03402687,\n",
       "       -0.03371228, -0.0147609 ,  0.02565079, -0.06251819, -0.03164579,\n",
       "        0.03269227, -0.01906624, -0.00269568,  0.02393796,  0.00502714,\n",
       "        0.04807229, -0.00441298, -0.00810787, -0.04506413,  0.01010004,\n",
       "       -0.03085292, -0.07091323,  0.00998588,  0.00276085,  0.04710478,\n",
       "       -0.02302791, -0.02459349,  0.01797344, -0.02112837,  0.0466088 ,\n",
       "       -0.00104207, -0.00374577, -0.04950179,  0.04251799, -0.0573385 ,\n",
       "        0.02055238,  0.04219677, -0.01167058,  0.0124185 ,  0.01056792,\n",
       "        0.00663806, -0.01598002,  0.016328  , -0.02056748, -0.01553835,\n",
       "       -0.0115668 , -0.01864405,  0.00332142,  0.0065868 , -0.21910888,\n",
       "        0.04714747,  0.02075716, -0.02441515, -0.00868844, -0.01634121,\n",
       "       -0.02499122,  0.00766708, -0.01083086, -0.02472527,  0.05254847,\n",
       "        0.08288426,  0.11848133, -0.0193633 , -0.00433764,  0.00458099,\n",
       "        0.06947739,  0.00124526,  0.023687  , -0.03457183,  0.06163959,\n",
       "       -0.06045357,  0.14640088, -0.03099669,  0.01726849, -0.06827349,\n",
       "       -0.0164134 ,  0.0376527 , -0.03385307,  0.01721648,  0.02592443,\n",
       "       -0.00034788,  0.02241218, -0.01919536,  0.0500587 ,  0.00834135,\n",
       "        0.00977349,  0.05592791,  0.00274986,  0.02592715, -0.04995015,\n",
       "       -0.02017871,  0.02317919,  0.01068104,  0.06462801, -0.02950339,\n",
       "       -0.04529896, -0.06358048, -0.01058145,  0.06793746,  0.00993985,\n",
       "       -0.02914161,  0.00441979,  0.01224194, -0.0569934 , -0.0118184 ,\n",
       "       -0.06126492,  0.03326268,  0.00284465, -0.01248829,  0.02214625,\n",
       "        0.04263509, -0.07597519,  0.0123405 ,  0.06002009])"
      ]
     },
     "execution_count": 8,
     "metadata": {},
     "output_type": "execute_result"
    }
   ],
   "source": [
    "np.array(embedding.embed_query(docs[0].page_content))"
   ]
  },
  {
   "cell_type": "code",
   "execution_count": 9,
   "metadata": {},
   "outputs": [],
   "source": [
    "vectorstore = FAISS.from_documents(docs[:120],embedding)"
   ]
  },
  {
   "cell_type": "code",
   "execution_count": 10,
   "metadata": {},
   "outputs": [
    {
     "name": "stdout",
     "output_type": "stream",
     "text": [
      "2 U.S. Census Bureau\n",
      "WHAT IS HEALTH INSURANCE COVERAGE?\n",
      "This brief presents state-level estimates of health insurance coverage \n",
      "using data from the American Community Survey (ACS). The  \n",
      "U.S. Census Bureau conducts the ACS throughout the year; the \n",
      "survey asks respondents to report their coverage at the time of \n",
      "interview. The resulting measure of health insurance coverage, \n",
      "therefore, reflects an annual average of current comprehensive \n",
      "health insurance coverage status.* This uninsured rate measures a \n",
      "different concept than the measure based on the Current Population \n",
      "Survey Annual Social and Economic Supplement (CPS ASEC). \n",
      "For reporting purposes, the ACS broadly classifies health insurance \n",
      "coverage as private insurance or public insurance. The ACS defines \n",
      "private health insurance as a plan provided through an employer \n",
      "or a union, coverage purchased directly by an individual from an \n",
      "insurance company or through an exchange (such as healthcare.\n"
     ]
    }
   ],
   "source": [
    "query = \"What is health insurance coverage\"\n",
    "relevant_documents = vectorstore.similarity_search(query)\n",
    "print(relevant_documents[0].page_content)\n"
   ]
  },
  {
   "cell_type": "code",
   "execution_count": 11,
   "metadata": {},
   "outputs": [
    {
     "name": "stdout",
     "output_type": "stream",
     "text": [
      "tags=['FAISS', 'HuggingFaceBgeEmbeddings'] vectorstore=<langchain_community.vectorstores.faiss.FAISS object at 0x00000241A00267B0> search_kwargs={'k': 3}\n"
     ]
    }
   ],
   "source": [
    "retriever=vectorstore.as_retriever(search_type=\"similarity\",search_kwargs={\"k\":3})\n",
    "print(retriever)"
   ]
  },
  {
   "cell_type": "code",
   "execution_count": 12,
   "metadata": {},
   "outputs": [],
   "source": [
    "os.environ[\"HUGGINGFACEHUB_API_TOKEN\"] = os.getenv(\"HUGGINGFACEHUB_API_TOKEN\")\n"
   ]
  },
  {
   "cell_type": "code",
   "execution_count": null,
   "metadata": {},
   "outputs": [],
   "source": [
    "from langchain_community.llms import HuggingFaceHub\n",
    "hf = HuggingFaceHub(\n",
    "    repo_id = \"mistralai/Mistral-7B-v0.1\",\n",
    "    model_kwargs={\"temperature\":0.1,\"max_length\":500}\n",
    ")\n",
    "hf.invoke(query)"
   ]
  },
  {
   "cell_type": "code",
   "execution_count": null,
   "metadata": {},
   "outputs": [],
   "source": [
    "#Hugging Face models can be run locally through the HuggingFacePipeline class.\n",
    "from langchain_community.llms.huggingface_pipeline import HuggingFacePipeline\n",
    "\n",
    "hf = HuggingFacePipeline.from_model_id(\n",
    "    model_id=\"mistralai/Mistral-7B-v0.1\",\n",
    "    task=\"text-generation\",\n",
    "    pipeline_kwargs={\"temperature\": 0, \"max_new_tokens\": 300}\n",
    ")\n",
    "\n",
    "llm = hf \n",
    "llm.invoke(query)"
   ]
  },
  {
   "cell_type": "code",
   "execution_count": null,
   "metadata": {},
   "outputs": [],
   "source": [
    "prompt_template=\"\"\"\n",
    "Use the following piece of context to answer the question asked.\n",
    "Please try to provide the answer only based on the context\n",
    "\n",
    "{context}\n",
    "Question:{question}\n",
    "\n",
    "Helpful Answers:\n",
    " \"\"\""
   ]
  },
  {
   "cell_type": "code",
   "execution_count": null,
   "metadata": {},
   "outputs": [],
   "source": [
    "prompt=PromptTemplate(template=prompt_template,input_variables=[\"context\",\"question\"])"
   ]
  },
  {
   "cell_type": "code",
   "execution_count": null,
   "metadata": {},
   "outputs": [],
   "source": [
    "retrievalQA=RetrievalQA.from_chain_type(\n",
    "    llm=hf,\n",
    "    chain_type=\"stuff\",\n",
    "    retriever=retriever,\n",
    "    return_source_documents=True,\n",
    "    chain_type_kwargs={\"prompt\":prompt}\n",
    ")"
   ]
  },
  {
   "cell_type": "code",
   "execution_count": null,
   "metadata": {},
   "outputs": [],
   "source": [
    "query=\"\"\"DIFFERENCES IN THE\n",
    "UNINSURED RATE BY STATE\n",
    "IN 2022\"\"\""
   ]
  },
  {
   "cell_type": "code",
   "execution_count": null,
   "metadata": {},
   "outputs": [],
   "source": [
    "result = retrievalQA.invoke({\"query\": query})\n",
    "print(result['result'])"
   ]
  }
 ],
 "metadata": {
  "kernelspec": {
   "display_name": "myenv",
   "language": "python",
   "name": "python3"
  },
  "language_info": {
   "codemirror_mode": {
    "name": "ipython",
    "version": 3
   },
   "file_extension": ".py",
   "mimetype": "text/x-python",
   "name": "python",
   "nbconvert_exporter": "python",
   "pygments_lexer": "ipython3",
   "version": "3.13.1"
  }
 },
 "nbformat": 4,
 "nbformat_minor": 2
}
